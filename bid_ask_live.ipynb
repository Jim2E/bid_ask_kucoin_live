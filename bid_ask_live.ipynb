{
 "cells": [
  {
   "cell_type": "code",
   "execution_count": 1,
   "metadata": {},
   "outputs": [
    {
     "data": {
      "application/vnd.plotly.v1+json": {
       "config": {
        "plotlyServerURL": "https://plot.ly"
       },
       "data": [
        {
         "marker": {
          "color": "red"
         },
         "name": "asks",
         "type": "bar",
         "x": [
          1595.67,
          1595.71,
          1595.76,
          1595.97,
          1595.98,
          1595.99,
          1596,
          1596.02,
          1596.04,
          1596.05,
          1596.06,
          1596.09,
          1596.1,
          1596.13,
          1596.14,
          1596.15,
          1596.2,
          1596.22,
          1596.23,
          1596.27,
          1596.29,
          1596.3,
          1596.31,
          1596.33,
          1596.35,
          1596.36,
          1596.37,
          1596.39,
          1596.4,
          1596.47,
          1596.5,
          1596.54,
          1596.55,
          1596.59,
          1596.6,
          1596.64,
          1596.65,
          1596.7,
          1596.72,
          1596.73,
          1596.74,
          1596.76,
          1596.77,
          1596.8,
          1596.83,
          1596.85,
          1596.87,
          1596.9,
          1596.94,
          1596.95
         ],
         "y": [
          3.507,
          3.2,
          0.008,
          1,
          38.235,
          0.4,
          1.865,
          1.636,
          1.973,
          5.552,
          0.004,
          5.486,
          0.005,
          0.09,
          5.798,
          22.515,
          0.07,
          4.031,
          4.42,
          0.012,
          1,
          0.062,
          0.007,
          7.3,
          0.007,
          0.001,
          0.023,
          1.006,
          0.063,
          0.094,
          0.089,
          0.006,
          1.247,
          1,
          0.024,
          0,
          12.526,
          2.63,
          0.088,
          2,
          2.563,
          6.706,
          0.207,
          0.104,
          2.051,
          0,
          0.001,
          0.457,
          0.513,
          23.279
         ]
        },
        {
         "marker": {
          "color": "green"
         },
         "name": "bids",
         "type": "bar",
         "x": [
          1595.66,
          1595.63,
          1595.62,
          1595.6,
          1595.58,
          1595.48,
          1595.47,
          1595.46,
          1595.33,
          1595.31,
          1595.3,
          1595.2,
          1595.19,
          1595.17,
          1595.16,
          1595.11,
          1595.04,
          1595.01,
          1594.99,
          1594.96,
          1594.92,
          1594.89,
          1594.88,
          1594.86,
          1594.79,
          1594.74,
          1594.72,
          1594.67,
          1594.58,
          1594.56,
          1594.55,
          1594.49,
          1594.45,
          1594.41,
          1594.35,
          1594.32,
          1594.31,
          1594.3,
          1594.29,
          1594.26,
          1594.21,
          1594.18,
          1594.16,
          1594.11,
          1594.1,
          1594.09,
          1594.07,
          1593.99,
          1593.95,
          1593.87
         ],
         "y": [
          0.787,
          0.313,
          5.803,
          4.685,
          1.852,
          9.722,
          5.509,
          0.04,
          4.728,
          2.35,
          0.047,
          1.904,
          0.208,
          0.207,
          2.027,
          0.044,
          1.403,
          0.8,
          1,
          4.736,
          0.8,
          1.6,
          0.8,
          1.446,
          0.1,
          1,
          0.4,
          0.087,
          1,
          1.446,
          0.028,
          7.3,
          0.654,
          0.723,
          1.636,
          2.169,
          0.723,
          0.066,
          0.001,
          1.446,
          0.723,
          21.861,
          2,
          1.446,
          18.192,
          0.512,
          1,
          2.051,
          2.563,
          2.563
         ]
        }
       ],
       "layout": {
        "height": 500,
        "showlegend": true,
        "template": {
         "data": {
          "bar": [
           {
            "error_x": {
             "color": "#2a3f5f"
            },
            "error_y": {
             "color": "#2a3f5f"
            },
            "marker": {
             "line": {
              "color": "#E5ECF6",
              "width": 0.5
             },
             "pattern": {
              "fillmode": "overlay",
              "size": 10,
              "solidity": 0.2
             }
            },
            "type": "bar"
           }
          ],
          "barpolar": [
           {
            "marker": {
             "line": {
              "color": "#E5ECF6",
              "width": 0.5
             },
             "pattern": {
              "fillmode": "overlay",
              "size": 10,
              "solidity": 0.2
             }
            },
            "type": "barpolar"
           }
          ],
          "carpet": [
           {
            "aaxis": {
             "endlinecolor": "#2a3f5f",
             "gridcolor": "white",
             "linecolor": "white",
             "minorgridcolor": "white",
             "startlinecolor": "#2a3f5f"
            },
            "baxis": {
             "endlinecolor": "#2a3f5f",
             "gridcolor": "white",
             "linecolor": "white",
             "minorgridcolor": "white",
             "startlinecolor": "#2a3f5f"
            },
            "type": "carpet"
           }
          ],
          "choropleth": [
           {
            "colorbar": {
             "outlinewidth": 0,
             "ticks": ""
            },
            "type": "choropleth"
           }
          ],
          "contour": [
           {
            "colorbar": {
             "outlinewidth": 0,
             "ticks": ""
            },
            "colorscale": [
             [
              0,
              "#0d0887"
             ],
             [
              0.1111111111111111,
              "#46039f"
             ],
             [
              0.2222222222222222,
              "#7201a8"
             ],
             [
              0.3333333333333333,
              "#9c179e"
             ],
             [
              0.4444444444444444,
              "#bd3786"
             ],
             [
              0.5555555555555556,
              "#d8576b"
             ],
             [
              0.6666666666666666,
              "#ed7953"
             ],
             [
              0.7777777777777778,
              "#fb9f3a"
             ],
             [
              0.8888888888888888,
              "#fdca26"
             ],
             [
              1,
              "#f0f921"
             ]
            ],
            "type": "contour"
           }
          ],
          "contourcarpet": [
           {
            "colorbar": {
             "outlinewidth": 0,
             "ticks": ""
            },
            "type": "contourcarpet"
           }
          ],
          "heatmap": [
           {
            "colorbar": {
             "outlinewidth": 0,
             "ticks": ""
            },
            "colorscale": [
             [
              0,
              "#0d0887"
             ],
             [
              0.1111111111111111,
              "#46039f"
             ],
             [
              0.2222222222222222,
              "#7201a8"
             ],
             [
              0.3333333333333333,
              "#9c179e"
             ],
             [
              0.4444444444444444,
              "#bd3786"
             ],
             [
              0.5555555555555556,
              "#d8576b"
             ],
             [
              0.6666666666666666,
              "#ed7953"
             ],
             [
              0.7777777777777778,
              "#fb9f3a"
             ],
             [
              0.8888888888888888,
              "#fdca26"
             ],
             [
              1,
              "#f0f921"
             ]
            ],
            "type": "heatmap"
           }
          ],
          "heatmapgl": [
           {
            "colorbar": {
             "outlinewidth": 0,
             "ticks": ""
            },
            "colorscale": [
             [
              0,
              "#0d0887"
             ],
             [
              0.1111111111111111,
              "#46039f"
             ],
             [
              0.2222222222222222,
              "#7201a8"
             ],
             [
              0.3333333333333333,
              "#9c179e"
             ],
             [
              0.4444444444444444,
              "#bd3786"
             ],
             [
              0.5555555555555556,
              "#d8576b"
             ],
             [
              0.6666666666666666,
              "#ed7953"
             ],
             [
              0.7777777777777778,
              "#fb9f3a"
             ],
             [
              0.8888888888888888,
              "#fdca26"
             ],
             [
              1,
              "#f0f921"
             ]
            ],
            "type": "heatmapgl"
           }
          ],
          "histogram": [
           {
            "marker": {
             "pattern": {
              "fillmode": "overlay",
              "size": 10,
              "solidity": 0.2
             }
            },
            "type": "histogram"
           }
          ],
          "histogram2d": [
           {
            "colorbar": {
             "outlinewidth": 0,
             "ticks": ""
            },
            "colorscale": [
             [
              0,
              "#0d0887"
             ],
             [
              0.1111111111111111,
              "#46039f"
             ],
             [
              0.2222222222222222,
              "#7201a8"
             ],
             [
              0.3333333333333333,
              "#9c179e"
             ],
             [
              0.4444444444444444,
              "#bd3786"
             ],
             [
              0.5555555555555556,
              "#d8576b"
             ],
             [
              0.6666666666666666,
              "#ed7953"
             ],
             [
              0.7777777777777778,
              "#fb9f3a"
             ],
             [
              0.8888888888888888,
              "#fdca26"
             ],
             [
              1,
              "#f0f921"
             ]
            ],
            "type": "histogram2d"
           }
          ],
          "histogram2dcontour": [
           {
            "colorbar": {
             "outlinewidth": 0,
             "ticks": ""
            },
            "colorscale": [
             [
              0,
              "#0d0887"
             ],
             [
              0.1111111111111111,
              "#46039f"
             ],
             [
              0.2222222222222222,
              "#7201a8"
             ],
             [
              0.3333333333333333,
              "#9c179e"
             ],
             [
              0.4444444444444444,
              "#bd3786"
             ],
             [
              0.5555555555555556,
              "#d8576b"
             ],
             [
              0.6666666666666666,
              "#ed7953"
             ],
             [
              0.7777777777777778,
              "#fb9f3a"
             ],
             [
              0.8888888888888888,
              "#fdca26"
             ],
             [
              1,
              "#f0f921"
             ]
            ],
            "type": "histogram2dcontour"
           }
          ],
          "mesh3d": [
           {
            "colorbar": {
             "outlinewidth": 0,
             "ticks": ""
            },
            "type": "mesh3d"
           }
          ],
          "parcoords": [
           {
            "line": {
             "colorbar": {
              "outlinewidth": 0,
              "ticks": ""
             }
            },
            "type": "parcoords"
           }
          ],
          "pie": [
           {
            "automargin": true,
            "type": "pie"
           }
          ],
          "scatter": [
           {
            "fillpattern": {
             "fillmode": "overlay",
             "size": 10,
             "solidity": 0.2
            },
            "type": "scatter"
           }
          ],
          "scatter3d": [
           {
            "line": {
             "colorbar": {
              "outlinewidth": 0,
              "ticks": ""
             }
            },
            "marker": {
             "colorbar": {
              "outlinewidth": 0,
              "ticks": ""
             }
            },
            "type": "scatter3d"
           }
          ],
          "scattercarpet": [
           {
            "marker": {
             "colorbar": {
              "outlinewidth": 0,
              "ticks": ""
             }
            },
            "type": "scattercarpet"
           }
          ],
          "scattergeo": [
           {
            "marker": {
             "colorbar": {
              "outlinewidth": 0,
              "ticks": ""
             }
            },
            "type": "scattergeo"
           }
          ],
          "scattergl": [
           {
            "marker": {
             "colorbar": {
              "outlinewidth": 0,
              "ticks": ""
             }
            },
            "type": "scattergl"
           }
          ],
          "scattermapbox": [
           {
            "marker": {
             "colorbar": {
              "outlinewidth": 0,
              "ticks": ""
             }
            },
            "type": "scattermapbox"
           }
          ],
          "scatterpolar": [
           {
            "marker": {
             "colorbar": {
              "outlinewidth": 0,
              "ticks": ""
             }
            },
            "type": "scatterpolar"
           }
          ],
          "scatterpolargl": [
           {
            "marker": {
             "colorbar": {
              "outlinewidth": 0,
              "ticks": ""
             }
            },
            "type": "scatterpolargl"
           }
          ],
          "scatterternary": [
           {
            "marker": {
             "colorbar": {
              "outlinewidth": 0,
              "ticks": ""
             }
            },
            "type": "scatterternary"
           }
          ],
          "surface": [
           {
            "colorbar": {
             "outlinewidth": 0,
             "ticks": ""
            },
            "colorscale": [
             [
              0,
              "#0d0887"
             ],
             [
              0.1111111111111111,
              "#46039f"
             ],
             [
              0.2222222222222222,
              "#7201a8"
             ],
             [
              0.3333333333333333,
              "#9c179e"
             ],
             [
              0.4444444444444444,
              "#bd3786"
             ],
             [
              0.5555555555555556,
              "#d8576b"
             ],
             [
              0.6666666666666666,
              "#ed7953"
             ],
             [
              0.7777777777777778,
              "#fb9f3a"
             ],
             [
              0.8888888888888888,
              "#fdca26"
             ],
             [
              1,
              "#f0f921"
             ]
            ],
            "type": "surface"
           }
          ],
          "table": [
           {
            "cells": {
             "fill": {
              "color": "#EBF0F8"
             },
             "line": {
              "color": "white"
             }
            },
            "header": {
             "fill": {
              "color": "#C8D4E3"
             },
             "line": {
              "color": "white"
             }
            },
            "type": "table"
           }
          ]
         },
         "layout": {
          "annotationdefaults": {
           "arrowcolor": "#2a3f5f",
           "arrowhead": 0,
           "arrowwidth": 1
          },
          "autotypenumbers": "strict",
          "coloraxis": {
           "colorbar": {
            "outlinewidth": 0,
            "ticks": ""
           }
          },
          "colorscale": {
           "diverging": [
            [
             0,
             "#8e0152"
            ],
            [
             0.1,
             "#c51b7d"
            ],
            [
             0.2,
             "#de77ae"
            ],
            [
             0.3,
             "#f1b6da"
            ],
            [
             0.4,
             "#fde0ef"
            ],
            [
             0.5,
             "#f7f7f7"
            ],
            [
             0.6,
             "#e6f5d0"
            ],
            [
             0.7,
             "#b8e186"
            ],
            [
             0.8,
             "#7fbc41"
            ],
            [
             0.9,
             "#4d9221"
            ],
            [
             1,
             "#276419"
            ]
           ],
           "sequential": [
            [
             0,
             "#0d0887"
            ],
            [
             0.1111111111111111,
             "#46039f"
            ],
            [
             0.2222222222222222,
             "#7201a8"
            ],
            [
             0.3333333333333333,
             "#9c179e"
            ],
            [
             0.4444444444444444,
             "#bd3786"
            ],
            [
             0.5555555555555556,
             "#d8576b"
            ],
            [
             0.6666666666666666,
             "#ed7953"
            ],
            [
             0.7777777777777778,
             "#fb9f3a"
            ],
            [
             0.8888888888888888,
             "#fdca26"
            ],
            [
             1,
             "#f0f921"
            ]
           ],
           "sequentialminus": [
            [
             0,
             "#0d0887"
            ],
            [
             0.1111111111111111,
             "#46039f"
            ],
            [
             0.2222222222222222,
             "#7201a8"
            ],
            [
             0.3333333333333333,
             "#9c179e"
            ],
            [
             0.4444444444444444,
             "#bd3786"
            ],
            [
             0.5555555555555556,
             "#d8576b"
            ],
            [
             0.6666666666666666,
             "#ed7953"
            ],
            [
             0.7777777777777778,
             "#fb9f3a"
            ],
            [
             0.8888888888888888,
             "#fdca26"
            ],
            [
             1,
             "#f0f921"
            ]
           ]
          },
          "colorway": [
           "#636efa",
           "#EF553B",
           "#00cc96",
           "#ab63fa",
           "#FFA15A",
           "#19d3f3",
           "#FF6692",
           "#B6E880",
           "#FF97FF",
           "#FECB52"
          ],
          "font": {
           "color": "#2a3f5f"
          },
          "geo": {
           "bgcolor": "white",
           "lakecolor": "white",
           "landcolor": "#E5ECF6",
           "showlakes": true,
           "showland": true,
           "subunitcolor": "white"
          },
          "hoverlabel": {
           "align": "left"
          },
          "hovermode": "closest",
          "mapbox": {
           "style": "light"
          },
          "paper_bgcolor": "white",
          "plot_bgcolor": "#E5ECF6",
          "polar": {
           "angularaxis": {
            "gridcolor": "white",
            "linecolor": "white",
            "ticks": ""
           },
           "bgcolor": "#E5ECF6",
           "radialaxis": {
            "gridcolor": "white",
            "linecolor": "white",
            "ticks": ""
           }
          },
          "scene": {
           "xaxis": {
            "backgroundcolor": "#E5ECF6",
            "gridcolor": "white",
            "gridwidth": 2,
            "linecolor": "white",
            "showbackground": true,
            "ticks": "",
            "zerolinecolor": "white"
           },
           "yaxis": {
            "backgroundcolor": "#E5ECF6",
            "gridcolor": "white",
            "gridwidth": 2,
            "linecolor": "white",
            "showbackground": true,
            "ticks": "",
            "zerolinecolor": "white"
           },
           "zaxis": {
            "backgroundcolor": "#E5ECF6",
            "gridcolor": "white",
            "gridwidth": 2,
            "linecolor": "white",
            "showbackground": true,
            "ticks": "",
            "zerolinecolor": "white"
           }
          },
          "shapedefaults": {
           "line": {
            "color": "#2a3f5f"
           }
          },
          "ternary": {
           "aaxis": {
            "gridcolor": "white",
            "linecolor": "white",
            "ticks": ""
           },
           "baxis": {
            "gridcolor": "white",
            "linecolor": "white",
            "ticks": ""
           },
           "bgcolor": "#E5ECF6",
           "caxis": {
            "gridcolor": "white",
            "linecolor": "white",
            "ticks": ""
           }
          },
          "title": {
           "x": 0.05
          },
          "xaxis": {
           "automargin": true,
           "gridcolor": "white",
           "linecolor": "white",
           "ticks": "",
           "title": {
            "standoff": 15
           },
           "zerolinecolor": "white",
           "zerolinewidth": 2
          },
          "yaxis": {
           "automargin": true,
           "gridcolor": "white",
           "linecolor": "white",
           "ticks": "",
           "title": {
            "standoff": 15
           },
           "zerolinecolor": "white",
           "zerolinewidth": 2
          }
         }
        },
        "title": {
         "text": "50 Bid/Asks Level 2 data of ETH-USDT",
         "x": 0.5,
         "xanchor": "center",
         "y": 0.92,
         "yanchor": "top"
        },
        "width": 1200,
        "xaxis": {
         "rangeslider": {
          "visible": false
         },
         "title": {
          "text": "Price"
         }
        },
        "yaxis": {
         "side": "left",
         "title": {
          "text": "Size"
         }
        }
       }
      }
     },
     "metadata": {},
     "output_type": "display_data"
    },
    {
     "name": "stdout",
     "output_type": "stream",
     "text": [
      "Bid\\Ask\\Size:\n",
      "1595.66 @ 1595.67, 0.79 by 3.51\n",
      "Spread:0.01\n",
      "\n",
      "50 Bids\\Asks Spread:\n",
      "1.79 | 1.28\n",
      "\n",
      "Avg. Bid\\Ask:\n",
      "1594.69 | 1596.32 | Spread:1.63\n"
     ]
    }
   ],
   "source": [
    "\"\"\"\n",
    "Get 100ms updates to bid/asks on a token from KuCoin exchange\n",
    "@authors: Jimmy Singh \n",
    "\"\"\"\n",
    "\n",
    "import asyncio\n",
    "from IPython.display import clear_output\n",
    "from kucoin.client import WsToken\n",
    "from kucoin.ws_client import KucoinWsClient\n",
    "import nest_asyncio\n",
    "import numpy as np\n",
    "import plotly.graph_objects as go\n",
    "import plotly.express as px\n",
    "import time\n",
    "\n",
    "nest_asyncio.apply()\n",
    "\n",
    "token = 'ETH-USDT'\n",
    "depth = 50\n",
    "\n",
    "async def main():\n",
    "    async def deal_msg(msg):\n",
    "        if msg['topic'] == f'/spotMarket/level2Depth{depth}:{token}':\n",
    "            \n",
    "            # print(f'Get ETH level3:{msg[\"data\"]}\\n')\n",
    "            ab = msg[\"data\"]\n",
    "\n",
    "            asks = {}\n",
    "            for a in ab['asks']:\n",
    "                asks[float(a[0])] = np.round(float(a[1]),3)\n",
    "            bids = {}\n",
    "            for b in ab['bids']:\n",
    "                bids[float(b[0])] = np.round(float(b[1]),3)\n",
    "            \n",
    "            asks_ps = list(asks.keys())\n",
    "            asks_ps_size = list(asks.values())\n",
    "            asks_spread = np.round(asks_ps[-1] - asks_ps[0],3)\n",
    "            bids_ps = list(bids.keys())\n",
    "            bids_ps_size = list(bids.values())\n",
    "            bids_spread = np.round(bids_ps[0] - bids_ps[-1],3)\n",
    "            \n",
    "            bid_ask_spread = np.round(asks_ps[0] - bids_ps[0],3)\n",
    "            avg_ask = np.round(np.sum(np.multiply(asks_ps,asks_ps_size))/np.sum(asks_ps_size),2)\n",
    "            avg_bid = np.round(np.sum(np.multiply(bids_ps,bids_ps_size))/np.sum(bids_ps_size),2)\n",
    "            \n",
    "            fig = go.Figure()\n",
    "            fig.add_trace(go.Bar(x= asks_ps, y=asks_ps_size,\n",
    "                                name = f'asks', marker_color='red'))\n",
    "            fig.add_trace(go.Bar(x= bids_ps, y=bids_ps_size,\n",
    "                                name = f'bids', marker_color='green'))\n",
    "            fig.update_layout(title={'text' : f'50 Bid/Asks Level 2 data of {token}',\n",
    "                                'y':0.92,'x':0.5,'xanchor': 'center','yanchor': 'top'},xaxis_title=\"Price\",yaxis_title= f'Size', \n",
    "                                xaxis = {'rangeslider': {'visible': False}}, yaxis={'side': 'left'}, showlegend=True, width = 1200,height = 500)\n",
    "            fig.show()\n",
    "\n",
    "\n",
    "            print(f'Bid\\Ask\\Size:\\n{np.round(bids_ps[0],2)} @ {np.round(asks_ps[0],2)}, {np.round(bids_ps_size[0],2)} by {np.round(asks_ps_size[0],2)}')\n",
    "            print(f'Spread:{bid_ask_spread}\\n')\n",
    "            print(f'50 Bids\\Asks Spread:\\n{bids_spread} | {asks_spread}\\n')\n",
    "            print(f'Avg. Bid\\Ask:\\n{avg_bid} | {avg_ask} | Spread:{np.abs(np.round(avg_bid-avg_ask,2))}')\n",
    "\n",
    "            # time.sleep(0.25)\n",
    "            clear_output(wait=True)\n",
    "    \n",
    "    client = WsToken()\n",
    "    ws_client = await KucoinWsClient.create(None, client, deal_msg, private = False)\n",
    "    await ws_client.subscribe(f'/spotMarket/level2Depth{depth}:{token}')\n",
    "    \n",
    "    while True:\n",
    "        await asyncio.sleep(60)\n",
    "\n",
    "loop = asyncio.get_event_loop()\n",
    "loop.run_until_complete(main())"
   ]
  }
 ],
 "metadata": {
  "kernelspec": {
   "display_name": "Python 3",
   "language": "python",
   "name": "python3"
  },
  "language_info": {
   "codemirror_mode": {
    "name": "ipython",
    "version": 3
   },
   "file_extension": ".py",
   "mimetype": "text/x-python",
   "name": "python",
   "nbconvert_exporter": "python",
   "pygments_lexer": "ipython3",
   "version": "3.8.9"
  },
  "orig_nbformat": 4,
  "vscode": {
   "interpreter": {
    "hash": "31f2aee4e71d21fbe5cf8b01ff0e069b9275f58929596ceb00d14d90e3e16cd6"
   }
  }
 },
 "nbformat": 4,
 "nbformat_minor": 2
}
